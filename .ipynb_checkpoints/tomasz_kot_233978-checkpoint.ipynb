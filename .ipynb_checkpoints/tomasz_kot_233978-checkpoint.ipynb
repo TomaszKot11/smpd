{
 "cells": [
  {
   "cell_type": "code",
   "execution_count": 1,
   "metadata": {
    "scrolled": true
   },
   "outputs": [
    {
     "name": "stdout",
     "output_type": "stream",
     "text": [
      "The qualification result:\n",
      "         x         y  class\n",
      "0  0.92110  0.101340    3.0\n",
      "1  0.92056  0.111510    3.0\n",
      "2  0.84434  0.280770    5.0\n",
      "3  0.83383  0.299730    5.0\n",
      "4  0.90487  0.185380    3.0\n",
      "5  0.83923  0.345390    5.0\n",
      "6  0.94952  0.032621    3.0\n"
     ]
    },
    {
     "data": {
      "image/png": "[encoded data removed]",
      "text/plain": [
       "<Figure size 432x288 with 1 Axes>"
      ]
     },
     "metadata": {
      "needs_background": "light"
     },
     "output_type": "display_data"
    }
   ],
   "source": [
    "import pandas as pd \n",
    "from sklearn.model_selection import train_test_split\n",
    "import numpy as np\n",
    "import matplotlib.pyplot as plt\n",
    "from scipy.spatial.distance import euclidean # euclidean distance between points\n",
    "\n",
    "try:\n",
    "    leaves = pd.read_csv(r'C:\\Users\\kotto\\OneDrive\\Pulpit\\smpd\\leaf.csv', header=None)\n",
    "except IOError:\n",
    "    print('Error while reading the CSV')\n",
    "    raise # To Exit the jupyter cell \n",
    "    \n",
    "# Selects only 3 or 5 class of leaves and returns a tuple\n",
    "# of train and test data\n",
    "def prepare_data(raw_data_df): \n",
    "    # by settint the random_state we can guarantee that the result of 1 run will be equal to the run of the 2 run\n",
    "    # random_seed is set to 224 because we want to have almost the same number of rows with each class\n",
    "    return train_test_split(raw_data_df[(raw_data_df[0]==3)|(raw_data_df[0]==5)], train_size=0.7, random_state=224)\n",
    "\n",
    "# By calculating the euclidean distances between each point from test data \n",
    "# and train set of points with class 3 and trains set of points4 \n",
    "# it gets the nearest one which in turn is a reuslt of qualification\n",
    "def get_qualification(train, test):\n",
    "    # train values for class 3\n",
    "    X_3 = train[5][train[0]==3].values\n",
    "    Y_3 = train[9][train[0]==3].values\n",
    "\n",
    "    # train values for class 5\n",
    "    X_5 = train[5][train[0]==5].values\n",
    "    Y_5 = train[9][train[0]==5].values\n",
    "\n",
    "    X_test = test[5].values\n",
    "    Y_test = test[9].values\n",
    "    \n",
    "    # aggregates the resuslts\n",
    "    aggregate = pd.DataFrame(columns=['x', 'y', 'class']) \n",
    "\n",
    "    for i in range(len(X_test)):\n",
    "        distances = pd.DataFrame(columns=['dist', 'class'])\n",
    "        for j in range(len(X_3)):\n",
    "            distances = distances.append({'dist': euclidean((X_test[i], Y_test[i], 0), (X_3[j], Y_3[j], 0)), 'class': 3}, ignore_index=True)\n",
    "        for k in range(len(X_5)):\n",
    "            distances = distances.append({'dist': euclidean((X_test[i], Y_test[i], 0), (X_5[k], Y_5[k], 0)), 'class': 5}, ignore_index=True)\n",
    "    \n",
    "        distances_for_current_point = distances['dist'].values \n",
    "        # the nearest point class is also the class of current test point \n",
    "        index = np.argmin(distances_for_current_point)\n",
    "        aggregate = aggregate.append({'x': X_test[i], 'y': Y_test[i], 'class': distances.iloc[index,:]['class']}, ignore_index=True)\n",
    "    return aggregate\n",
    "    \n",
    "# ============================\n",
    "# Main program goes under\n",
    "# ============================\n",
    "\n",
    "train, test = prepare_data(leaves)\n",
    "\n",
    "# we choose 5 - elogation as this is propably the unique species characteristics\n",
    "# 9 - maximal indentation depth - the same reason as above e.g in the test data the\n",
    "# values of class 3 are 'near' the 0.6 value\n",
    "\n",
    "# we can verify that this two attributes (5 and 9) are unique for both classes by drawing\n",
    "# trains sets on the plot\n",
    "plt.scatter(x=train[5][train[0]==3], y=train[9][train[0]==3],c='red')\n",
    "plt.scatter(x=train[5][train[0]==5],y=train[9][train[0]==5],c='green')\n",
    "# as we can see there is a linear separability between those two data sets\n",
    "\n",
    "results = get_qualification(train, test)\n",
    "\n",
    "print('The qualification result:')    \n",
    "print(results)\n",
    "\n"
   ]
  }
 ],
 "metadata": {
  "kernelspec": {
   "display_name": "Python 3",
   "language": "python",
   "name": "python3"
  },
  "language_info": {
   "codemirror_mode": {
    "name": "ipython",
    "version": 3
   },
   "file_extension": ".py",
   "mimetype": "text/x-python",
   "name": "python",
   "nbconvert_exporter": "python",
   "pygments_lexer": "ipython3",
   "version": "3.8.2"
  }
 },
 "nbformat": 4,
 "nbformat_minor": 4
}
