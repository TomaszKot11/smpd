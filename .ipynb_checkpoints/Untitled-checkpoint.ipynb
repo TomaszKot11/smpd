{
 "cells": [
  {
   "cell_type": "code",
   "execution_count": 1,
   "metadata": {
    "scrolled": true
   },
   "outputs": [
    {
     "name": "stdout",
     "output_type": "stream",
     "text": [
      "    0   1        2       3        4        5        6        7         8   \\\n",
      "46   5   7  0.89493  2.0494  0.64925  0.81682  0.83509  0.35318  0.049955   \n",
      "29   3   8  0.56599  1.0427  0.35318  0.89086  0.99825  0.62068  0.032971   \n",
      "23   3   2  0.66307  1.2065  0.32559  0.94952  0.99649  0.75954  0.013388   \n",
      "42   5   3  0.86545  1.8803  0.62039  0.82443  0.85439  0.33077  0.047000   \n",
      "48   5   9  0.88172  1.7740  0.63974  0.84990  0.87368  0.34354  0.051776   \n",
      "40   5   1  0.87844  1.8096  0.63151  0.83923  0.83684  0.37688  0.043563   \n",
      "45   5   6  0.90944  2.1139  0.69555  0.80873  0.85263  0.31039  0.047267   \n",
      "\n",
      "          9         10        11        12        13        14       15  \n",
      "46  0.454180  0.041808  0.120360  0.014280  0.004801  0.000171  1.09620  \n",
      "29  0.197850  0.026348  0.105890  0.011088  0.004651  0.000052  0.62671  \n",
      "23  0.032621  0.021815  0.097143  0.009348  0.004028  0.000036  0.53410  \n",
      "42  0.402040  0.039518  0.115700  0.013210  0.004241  0.000201  1.01360  \n",
      "48  0.487900  0.061030  0.151900  0.022554  0.008081  0.000250  1.38050  \n",
      "40  0.345390  0.045468  0.125540  0.015515  0.005159  0.000228  1.13740  \n",
      "45  0.406630  0.039446  0.105170  0.010939  0.002891  0.000294  1.16020  \n",
      "The qualification result:\n",
      "         x         y  class\n",
      "0  0.81682  0.454180    5.0\n",
      "1  0.89086  0.197850    3.0\n",
      "2  0.94952  0.032621    3.0\n",
      "3  0.82443  0.402040    5.0\n",
      "4  0.84990  0.487900    5.0\n",
      "5  0.83923  0.345390    5.0\n",
      "6  0.80873  0.406630    5.0\n"
     ]
    },
    {
     "data": {
      "image/png": "[encoded data removed]",
      "text/plain": [
       "<Figure size 432x288 with 1 Axes>"
      ]
     },
     "metadata": {
      "needs_background": "light"
     },
     "output_type": "display_data"
    }
   ],
   "source": [
    "import pandas as pd \n",
    "from sklearn.model_selection import train_test_split\n",
    "import numpy as np\n",
    "import matplotlib.pyplot as plt\n",
    "from scipy.spatial.distance import euclidean # euclidean distance between points\n",
    "\n",
    "try:\n",
    "    leaves = pd.read_csv(r'C:\\Users\\kotto\\OneDrive\\Pulpit\\smpd\\leaf.csv', header=None)\n",
    "except IOError:\n",
    "    print('Error while reading the CSV')\n",
    "    raise # To Exit the jupyter cell \n",
    "    \n",
    "# Selects only 3 or 5 class of leaves and returns a tuple\n",
    "# of train and test data\n",
    "def prepare_data(raw_data_df): \n",
    "    # by settint the random_state we can guarantee that the result of 1 run will be equal to the run of the 2 run\n",
    "    return train_test_split(raw_data_df[(raw_data_df[0]==3)|(raw_data_df[0]==5)], train_size=0.7, random_state=218)\n",
    "\n",
    "\n",
    "train, test = prepare_data(leaves)\n",
    "\n",
    "\n",
    "# train values from class 3\n",
    "# we choose 5 - elogation as this is propably the unique species characteristics\n",
    "# 9 - maximal indentation depth - the same reason as above e.g in the test data the\n",
    "# values of class 3 are 'near' the 0.6 value\n",
    "X_train_3 = train[5][train[0]==3].values\n",
    "Y_train_3 = train[9][train[0]==3].values\n",
    "\n",
    "# we can verify that this two attributes are unique for both classes by drawing\n",
    "# trains sets on the plot\n",
    "plt.scatter(x=train[5][train[0]==3], y=train[9][train[0]==3],c='red')\n",
    "plt.scatter(x=train[5][train[0]==5],y=train[9][train[0]==5],c='green')\n",
    "# as we can see there is a linear separability between those two data sets\n",
    "    \n",
    "# train values from class 5\n",
    "X_train_5 = train[5][train[0]==5].values\n",
    "Y_train_5 = train[9][train[0]==5].values\n",
    "\n",
    "X_test = test[5].values\n",
    "Y_test = test[9].values\n",
    "\n",
    "results = pd.DataFrame(columns=['x', 'y', 'class'])\n",
    "\n",
    "for i in range(len(X_test)):\n",
    "    distances = pd.DataFrame(columns=['dist', 'class'])\n",
    "    for j in range(len(X_train_3)):\n",
    "        distances = distances.append({'dist': euclidean((X_test[i], Y_test[i], 0), (X_train_3[j], Y_train_3[j], 0)), 'class': 3}, ignore_index=True)\n",
    "    for k in range(len(X_train_5)):\n",
    "        distances = distances.append({'dist': euclidean((X_test[i], Y_test[i], 0), (X_train_5[k], Y_train_5[k], 0)), 'class': 5}, ignore_index=True)\n",
    "    \n",
    "    distances_for_current_point = distances['dist'].values \n",
    "    # the nearest point class is also the class of current test point \n",
    "    index = np.argmin(distances_for_current_point)\n",
    "    results = results.append({'x': X_test[i], 'y': Y_test[i], 'class': distances.iloc[index,:]['class']}, ignore_index=True)\n",
    "\n",
    "print('The qualification result:')    \n",
    "print(results)\n",
    "\n"
   ]
  }
 ],
 "metadata": {
  "kernelspec": {
   "display_name": "Python 3",
   "language": "python",
   "name": "python3"
  },
  "language_info": {
   "codemirror_mode": {
    "name": "ipython",
    "version": 3
   },
   "file_extension": ".py",
   "mimetype": "text/x-python",
   "name": "python",
   "nbconvert_exporter": "python",
   "pygments_lexer": "ipython3",
   "version": "3.8.2"
  }
 },
 "nbformat": 4,
 "nbformat_minor": 4
}
