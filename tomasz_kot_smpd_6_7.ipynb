{
 "cells": [
  {
   "cell_type": "markdown",
   "metadata": {},
   "source": [
    "<strong>Tomasz Kot 233 978</strong>"
   ]
  },
  {
   "cell_type": "markdown",
   "metadata": {},
   "source": [
    "<strong>Zadanie 1</strong> "
   ]
  },
  {
   "cell_type": "markdown",
   "metadata": {},
   "source": [
    "<strong>Algorytm najbliższej średniej z uwzględnieniem odległości Euklidesowej i\n",
    "Machalanobisa.</strong>"
   ]
  },
  {
   "cell_type": "markdown",
   "metadata": {},
   "source": [
    "Wymagane importy"
   ]
  },
  {
   "cell_type": "code",
   "execution_count": 611,
   "metadata": {},
   "outputs": [],
   "source": [
    "import enum\n",
    "from sklearn.utils import check_array\n",
    "import pandas as pd\n",
    "from sklearn.model_selection import train_test_split\n",
    "import numpy as np\n",
    "from sklearn.preprocessing import MinMaxScaler\n",
    "from sklearn.metrics import confusion_matrix\n",
    "import matplotlib.pyplot as plt"
   ]
  },
  {
   "cell_type": "markdown",
   "metadata": {},
   "source": [
    "Zaimportujmy wymagane dane"
   ]
  },
  {
   "cell_type": "code",
   "execution_count": 595,
   "metadata": {},
   "outputs": [
    {
     "data": {
      "text/html": [
       "<div>\n",
       "<style scoped>\n",
       "    .dataframe tbody tr th:only-of-type {\n",
       "        vertical-align: middle;\n",
       "    }\n",
       "\n",
       "    .dataframe tbody tr th {\n",
       "        vertical-align: top;\n",
       "    }\n",
       "\n",
       "    .dataframe thead th {\n",
       "        text-align: right;\n",
       "    }\n",
       "</style>\n",
       "<table border=\"1\" class=\"dataframe\">\n",
       "  <thead>\n",
       "    <tr style=\"text-align: right;\">\n",
       "      <th></th>\n",
       "      <th>0</th>\n",
       "      <th>1</th>\n",
       "      <th>2</th>\n",
       "      <th>3</th>\n",
       "      <th>4</th>\n",
       "      <th>5</th>\n",
       "      <th>6</th>\n",
       "      <th>7</th>\n",
       "      <th>8</th>\n",
       "      <th>9</th>\n",
       "      <th>10</th>\n",
       "      <th>11</th>\n",
       "      <th>12</th>\n",
       "      <th>13</th>\n",
       "      <th>14</th>\n",
       "      <th>15</th>\n",
       "    </tr>\n",
       "  </thead>\n",
       "  <tbody>\n",
       "    <tr>\n",
       "      <th>22</th>\n",
       "      <td>3</td>\n",
       "      <td>1</td>\n",
       "      <td>0.70273</td>\n",
       "      <td>1.2099</td>\n",
       "      <td>0.36317</td>\n",
       "      <td>0.92110</td>\n",
       "      <td>0.98772</td>\n",
       "      <td>0.60555</td>\n",
       "      <td>0.023597</td>\n",
       "      <td>0.101340</td>\n",
       "      <td>0.089301</td>\n",
       "      <td>0.200880</td>\n",
       "      <td>0.038786</td>\n",
       "      <td>0.015895</td>\n",
       "      <td>0.000405</td>\n",
       "      <td>1.53710</td>\n",
       "    </tr>\n",
       "    <tr>\n",
       "      <th>23</th>\n",
       "      <td>3</td>\n",
       "      <td>2</td>\n",
       "      <td>0.66307</td>\n",
       "      <td>1.2065</td>\n",
       "      <td>0.32559</td>\n",
       "      <td>0.94952</td>\n",
       "      <td>0.99649</td>\n",
       "      <td>0.75954</td>\n",
       "      <td>0.013388</td>\n",
       "      <td>0.032621</td>\n",
       "      <td>0.021815</td>\n",
       "      <td>0.097143</td>\n",
       "      <td>0.009348</td>\n",
       "      <td>0.004028</td>\n",
       "      <td>0.000036</td>\n",
       "      <td>0.53410</td>\n",
       "    </tr>\n",
       "    <tr>\n",
       "      <th>24</th>\n",
       "      <td>3</td>\n",
       "      <td>3</td>\n",
       "      <td>0.61289</td>\n",
       "      <td>1.0991</td>\n",
       "      <td>0.33117</td>\n",
       "      <td>0.92405</td>\n",
       "      <td>0.98421</td>\n",
       "      <td>0.61661</td>\n",
       "      <td>0.025545</td>\n",
       "      <td>0.118770</td>\n",
       "      <td>0.054687</td>\n",
       "      <td>0.160600</td>\n",
       "      <td>0.025145</td>\n",
       "      <td>0.011672</td>\n",
       "      <td>0.000121</td>\n",
       "      <td>1.10760</td>\n",
       "    </tr>\n",
       "    <tr>\n",
       "      <th>25</th>\n",
       "      <td>3</td>\n",
       "      <td>4</td>\n",
       "      <td>0.70668</td>\n",
       "      <td>1.2510</td>\n",
       "      <td>0.38111</td>\n",
       "      <td>0.94226</td>\n",
       "      <td>0.99825</td>\n",
       "      <td>0.69250</td>\n",
       "      <td>0.019432</td>\n",
       "      <td>0.068724</td>\n",
       "      <td>0.031587</td>\n",
       "      <td>0.115020</td>\n",
       "      <td>0.013056</td>\n",
       "      <td>0.005311</td>\n",
       "      <td>0.000086</td>\n",
       "      <td>0.72247</td>\n",
       "    </tr>\n",
       "    <tr>\n",
       "      <th>26</th>\n",
       "      <td>3</td>\n",
       "      <td>5</td>\n",
       "      <td>0.66889</td>\n",
       "      <td>1.1435</td>\n",
       "      <td>0.38460</td>\n",
       "      <td>0.90355</td>\n",
       "      <td>0.99649</td>\n",
       "      <td>0.60571</td>\n",
       "      <td>0.028329</td>\n",
       "      <td>0.146060</td>\n",
       "      <td>0.057506</td>\n",
       "      <td>0.159310</td>\n",
       "      <td>0.024752</td>\n",
       "      <td>0.010304</td>\n",
       "      <td>0.000185</td>\n",
       "      <td>1.13650</td>\n",
       "    </tr>\n",
       "    <tr>\n",
       "      <th>...</th>\n",
       "      <td>...</td>\n",
       "      <td>...</td>\n",
       "      <td>...</td>\n",
       "      <td>...</td>\n",
       "      <td>...</td>\n",
       "      <td>...</td>\n",
       "      <td>...</td>\n",
       "      <td>...</td>\n",
       "      <td>...</td>\n",
       "      <td>...</td>\n",
       "      <td>...</td>\n",
       "      <td>...</td>\n",
       "      <td>...</td>\n",
       "      <td>...</td>\n",
       "      <td>...</td>\n",
       "      <td>...</td>\n",
       "    </tr>\n",
       "    <tr>\n",
       "      <th>103</th>\n",
       "      <td>10</td>\n",
       "      <td>9</td>\n",
       "      <td>0.46094</td>\n",
       "      <td>1.1366</td>\n",
       "      <td>0.22905</td>\n",
       "      <td>0.95565</td>\n",
       "      <td>0.97544</td>\n",
       "      <td>0.71234</td>\n",
       "      <td>0.038286</td>\n",
       "      <td>0.266780</td>\n",
       "      <td>0.117530</td>\n",
       "      <td>0.220410</td>\n",
       "      <td>0.046329</td>\n",
       "      <td>0.016554</td>\n",
       "      <td>0.000648</td>\n",
       "      <td>1.98660</td>\n",
       "    </tr>\n",
       "    <tr>\n",
       "      <th>104</th>\n",
       "      <td>10</td>\n",
       "      <td>10</td>\n",
       "      <td>0.54913</td>\n",
       "      <td>1.2769</td>\n",
       "      <td>0.31283</td>\n",
       "      <td>0.93889</td>\n",
       "      <td>0.99123</td>\n",
       "      <td>0.59330</td>\n",
       "      <td>0.041539</td>\n",
       "      <td>0.314040</td>\n",
       "      <td>0.151880</td>\n",
       "      <td>0.260500</td>\n",
       "      <td>0.063550</td>\n",
       "      <td>0.023790</td>\n",
       "      <td>0.000843</td>\n",
       "      <td>2.20300</td>\n",
       "    </tr>\n",
       "    <tr>\n",
       "      <th>105</th>\n",
       "      <td>10</td>\n",
       "      <td>11</td>\n",
       "      <td>0.32168</td>\n",
       "      <td>1.1127</td>\n",
       "      <td>0.27055</td>\n",
       "      <td>0.95426</td>\n",
       "      <td>0.99298</td>\n",
       "      <td>0.70006</td>\n",
       "      <td>0.054260</td>\n",
       "      <td>0.535840</td>\n",
       "      <td>0.109670</td>\n",
       "      <td>0.215070</td>\n",
       "      <td>0.044212</td>\n",
       "      <td>0.016252</td>\n",
       "      <td>0.000612</td>\n",
       "      <td>1.84520</td>\n",
       "    </tr>\n",
       "    <tr>\n",
       "      <th>106</th>\n",
       "      <td>10</td>\n",
       "      <td>12</td>\n",
       "      <td>0.38564</td>\n",
       "      <td>1.0471</td>\n",
       "      <td>0.23328</td>\n",
       "      <td>0.95176</td>\n",
       "      <td>0.97368</td>\n",
       "      <td>0.67107</td>\n",
       "      <td>0.050832</td>\n",
       "      <td>0.470280</td>\n",
       "      <td>0.135630</td>\n",
       "      <td>0.247440</td>\n",
       "      <td>0.057693</td>\n",
       "      <td>0.022000</td>\n",
       "      <td>0.000868</td>\n",
       "      <td>1.97570</td>\n",
       "    </tr>\n",
       "    <tr>\n",
       "      <th>107</th>\n",
       "      <td>10</td>\n",
       "      <td>13</td>\n",
       "      <td>0.36127</td>\n",
       "      <td>1.0573</td>\n",
       "      <td>0.26213</td>\n",
       "      <td>0.93923</td>\n",
       "      <td>0.96667</td>\n",
       "      <td>0.59302</td>\n",
       "      <td>0.049620</td>\n",
       "      <td>0.448110</td>\n",
       "      <td>0.190670</td>\n",
       "      <td>0.280810</td>\n",
       "      <td>0.073089</td>\n",
       "      <td>0.023825</td>\n",
       "      <td>0.001250</td>\n",
       "      <td>2.66040</td>\n",
       "    </tr>\n",
       "  </tbody>\n",
       "</table>\n",
       "<p>70 rows × 16 columns</p>\n",
       "</div>"
      ],
      "text/plain": [
       "     0   1        2       3        4        5        6        7         8   \\\n",
       "22    3   1  0.70273  1.2099  0.36317  0.92110  0.98772  0.60555  0.023597   \n",
       "23    3   2  0.66307  1.2065  0.32559  0.94952  0.99649  0.75954  0.013388   \n",
       "24    3   3  0.61289  1.0991  0.33117  0.92405  0.98421  0.61661  0.025545   \n",
       "25    3   4  0.70668  1.2510  0.38111  0.94226  0.99825  0.69250  0.019432   \n",
       "26    3   5  0.66889  1.1435  0.38460  0.90355  0.99649  0.60571  0.028329   \n",
       "..   ..  ..      ...     ...      ...      ...      ...      ...       ...   \n",
       "103  10   9  0.46094  1.1366  0.22905  0.95565  0.97544  0.71234  0.038286   \n",
       "104  10  10  0.54913  1.2769  0.31283  0.93889  0.99123  0.59330  0.041539   \n",
       "105  10  11  0.32168  1.1127  0.27055  0.95426  0.99298  0.70006  0.054260   \n",
       "106  10  12  0.38564  1.0471  0.23328  0.95176  0.97368  0.67107  0.050832   \n",
       "107  10  13  0.36127  1.0573  0.26213  0.93923  0.96667  0.59302  0.049620   \n",
       "\n",
       "           9         10        11        12        13        14       15  \n",
       "22   0.101340  0.089301  0.200880  0.038786  0.015895  0.000405  1.53710  \n",
       "23   0.032621  0.021815  0.097143  0.009348  0.004028  0.000036  0.53410  \n",
       "24   0.118770  0.054687  0.160600  0.025145  0.011672  0.000121  1.10760  \n",
       "25   0.068724  0.031587  0.115020  0.013056  0.005311  0.000086  0.72247  \n",
       "26   0.146060  0.057506  0.159310  0.024752  0.010304  0.000185  1.13650  \n",
       "..        ...       ...       ...       ...       ...       ...      ...  \n",
       "103  0.266780  0.117530  0.220410  0.046329  0.016554  0.000648  1.98660  \n",
       "104  0.314040  0.151880  0.260500  0.063550  0.023790  0.000843  2.20300  \n",
       "105  0.535840  0.109670  0.215070  0.044212  0.016252  0.000612  1.84520  \n",
       "106  0.470280  0.135630  0.247440  0.057693  0.022000  0.000868  1.97570  \n",
       "107  0.448110  0.190670  0.280810  0.073089  0.023825  0.001250  2.66040  \n",
       "\n",
       "[70 rows x 16 columns]"
      ]
     },
     "execution_count": 595,
     "metadata": {},
     "output_type": "execute_result"
    }
   ],
   "source": [
    "leaves = pd.read_csv(\"C:\\\\Users\\\\kotto\\\\OneDrive\\\\Pulpit\\\\smpd\\\\leaf.csv\", header=None)\n",
    "# wybierz cechy \n",
    "leaves_chosen = leaves[(leaves[0]==3)|(leaves[0]==5)|(leaves[0]==7)|(leaves[0]==8)|(leaves[0]==9)|(leaves[0]==10)]\n",
    "\n",
    "leaves_chosen"
   ]
  },
  {
   "cell_type": "markdown",
   "metadata": {},
   "source": [
    "Wyznaczmy zbiory treningowe oraz testowe"
   ]
  },
  {
   "cell_type": "code",
   "execution_count": 596,
   "metadata": {},
   "outputs": [],
   "source": [
    "test_size = 0.7\n",
    "training_set, test_set, training_labels, test_labels = train_test_split(leaves_chosen.copy()[[4,7,8,9,12]], leaves_chosen.copy()[[0]], test_size=test_size, stratify=leaves_chosen.copy()[[0]])"
   ]
  },
  {
   "cell_type": "markdown",
   "metadata": {},
   "source": [
    "Normalizacja danych"
   ]
  },
  {
   "cell_type": "code",
   "execution_count": 597,
   "metadata": {},
   "outputs": [],
   "source": [
    "scaler = MinMaxScaler()\n",
    "training_set = scaler.fit_transform(training_set)\n",
    "test_set = scaler.transform(test_set)\n",
    "training_labels, test_labels = training_labels.to_numpy(), test_labels.to_numpy()"
   ]
  },
  {
   "cell_type": "code",
   "execution_count": 598,
   "metadata": {},
   "outputs": [],
   "source": [
    "class DistanceType(enum.Enum):\n",
    "   Euclidean = 1\n",
    "   Mahalanobis = 2 "
   ]
  },
  {
   "cell_type": "code",
   "execution_count": 599,
   "metadata": {},
   "outputs": [],
   "source": [
    "def compute_mahalanobis(x, mean_vector, covariance_matrix):\n",
    "    return np.sum(np.sum((np.expand_dims((np.tile(x,(np.shape(mean_vector)[0],1)) - mean_vector),axis=1))*np.linalg.inv(covariance_matrix), axis=2)*(np.tile(x,(np.shape(mean_vector)[0],1)) - mean_vector),axis=1)"
   ]
  },
  {
   "cell_type": "code",
   "execution_count": 600,
   "metadata": {},
   "outputs": [],
   "source": [
    "def compute_euclidean(x, mean_vector, covariance_matrix):\n",
    "    return np.sum((np.tile(x,(np.shape(mean_vector)[0],1)) - mean_vector) ** 2, axis=1) "
   ]
  },
  {
   "cell_type": "code",
   "execution_count": 601,
   "metadata": {},
   "outputs": [],
   "source": [
    "def nm_train(training_set, training_labels):    \n",
    "    unique_labels = np.unique(training_labels)\n",
    "    mean_vector = np.zeros((np.size(unique_labels), np.shape(training_set)[1]))\n",
    "    covariance_matrix = np.zeros((np.size(unique_labels), np.shape(training_set)[1], np.shape(training_set)[1]))\n",
    "    for idx, i in np.ndenumerate(unique_labels):\n",
    "        indices = [j for j, x in enumerate(training_labels) if x == i]\n",
    "        mean_vector[idx[0]] = np.mean(np.array(training_set)[indices], axis=0)\n",
    "        covariance_matrix[idx[0]] = np.cov(np.array(training_set)[indices], ddof=0, rowvar=False)\n",
    "    \n",
    "    return mean_vector, covariance_matrix"
   ]
  },
  {
   "cell_type": "code",
   "execution_count": 602,
   "metadata": {},
   "outputs": [],
   "source": [
    "def classify(x, mean_vector, covariance_matrix, distance_type):\n",
    "    if distance_type == DistanceType.Mahalanobis: \n",
    "        distances = np.sum(np.sum((np.expand_dims((np.tile(x,(np.shape(mean_vector)[0],1)) - mean_vector),axis=1))*np.linalg.inv(covariance_matrix), axis=2)*(np.tile(x,(np.shape(mean_vector)[0],1)) - mean_vector), axis=1)\n",
    "    else: \n",
    "        distances = compute_euclidean(x, mean_vector,covariance_matrix)\n",
    "    result_indice = np.argmin(distances).astype(int)\n",
    "    return np.unique(training_labels)[result_indice]\n",
    "        "
   ]
  },
  {
   "cell_type": "code",
   "execution_count": 603,
   "metadata": {},
   "outputs": [],
   "source": [
    "def nm_predict(training_set, training_labels, test_set, distance_type=DistanceType.Euclidean):\n",
    "    # train the classifier\n",
    "    mean_vector, covariance_matrix = nm_train(training_set, training_labels)\n",
    "    # now we can classify\n",
    "    test_set = check_array(test_set, accept_sparse='csr')\n",
    "    y = np.array([])\n",
    "    for x in test_set:\n",
    "        y = np.append(y, classify(x, mean_vector, covariance_matrix, distance_type))\n",
    "    \n",
    "    return y"
   ]
  },
  {
   "cell_type": "markdown",
   "metadata": {},
   "source": [
    "<strong>Zadanie 2</strong>"
   ]
  },
  {
   "cell_type": "markdown",
   "metadata": {},
   "source": [
    "Ocenić oba podejścia i wyświetlić tablicę pomyłek"
   ]
  },
  {
   "cell_type": "code",
   "execution_count": 636,
   "metadata": {},
   "outputs": [
    {
     "name": "stdout",
     "output_type": "stream",
     "text": [
      "Predicted using Euclidean distance\n",
      "[ 8.  5.  5.  8.  7. 10.  3.  9.  5. 10. 10.  5. 10.  7.  9.  7. 10.  5.\n",
      " 10.  5.  5.  3.  7.  3.  5.  7. 10.  7.  3.  7.  9.  9.  3.  8.  8.  5.\n",
      "  8.  5.  8. 10.  3.  9.  7.  5. 10.  5.  8.  7.  9.]\n",
      "Predicted using Mahalanobis distance\n",
      "[8. 3. 5. 8. 8. 3. 8. 8. 8. 8. 8. 5. 8. 8. 8. 8. 8. 8. 8. 7. 7. 8. 8. 8.\n",
      " 5. 8. 8. 8. 8. 8. 8. 8. 8. 8. 8. 8. 8. 7. 8. 8. 8. 8. 8. 8. 8. 5. 8. 8.\n",
      " 8.]\n"
     ]
    }
   ],
   "source": [
    "predicted_euclidean = nm_predict(training_set, training_labels, test_set)\n",
    "predicted_mahalanobis = nm_predict(training_set, training_labels, test_set, DistanceType.Mahalanobis)\n",
    "print('Predicted using Euclidean distance')\n",
    "print(predicted_euclidean)\n",
    "print('Predicted using Mahalanobis distance')\n",
    "print(predicted_mahalanobis)"
   ]
  },
  {
   "cell_type": "markdown",
   "metadata": {},
   "source": [
    "<strong>Confussion matrixes dla klasyfikatorów</strong>"
   ]
  },
  {
   "cell_type": "code",
   "execution_count": 637,
   "metadata": {},
   "outputs": [],
   "source": [
    "def draw_confusion_matrix(predicted_labels):\n",
    "    cm = confusion_matrix(test_labels, predicted_labels)\n",
    "    plt.imshow(cm, interpolation='nearest', cmap=plt.cm.Blues)\n",
    "    plt.ylabel('Prawdziwa', fontsize=20)\n",
    "    plt.xlabel('Przewidziana', fontsize=20)\n",
    "    for i in range(np.shape(cm)[0]):\n",
    "            for j in range(np.shape(cm)[0]):\n",
    "                plt.text(j, i, str(cm[i][j]), fontsize=20, verticalalignment='center', horizontalalignment='center')\n",
    "    plt.show()"
   ]
  },
  {
   "cell_type": "markdown",
   "metadata": {},
   "source": [
    "<strong>Odległość Euklidesa</strong>"
   ]
  },
  {
   "cell_type": "code",
   "execution_count": 638,
   "metadata": {},
   "outputs": [
    {
     "data": {
      "image/png": "[encoded data removed]",
      "text/plain": [
       "<Figure size 432x288 with 1 Axes>"
      ]
     },
     "metadata": {
      "needs_background": "light"
     },
     "output_type": "display_data"
    }
   ],
   "source": [
    "draw_confusion_matrix(predicted_euclidean)"
   ]
  },
  {
   "cell_type": "markdown",
   "metadata": {},
   "source": [
    "<strong>Odległość Mahalanobisa</strong>"
   ]
  },
  {
   "cell_type": "code",
   "execution_count": 641,
   "metadata": {},
   "outputs": [
    {
     "data": {
      "image/png": "[encoded data removed]",
      "text/plain": [
       "<Figure size 432x288 with 1 Axes>"
      ]
     },
     "metadata": {
      "needs_background": "light"
     },
     "output_type": "display_data"
    }
   ],
   "source": [
    "draw_confusion_matrix(predicted_mahalanobis)"
   ]
  },
  {
   "cell_type": "markdown",
   "metadata": {},
   "source": [
    "<strong>Wnioski</strong>"
   ]
  },
  {
   "cell_type": "markdown",
   "metadata": {},
   "source": [
    "Z racji, że w tablicy pomyłek wszystkie poprawne predykcje (wyniki) są położone na głównej diagonalnej. Po wygenerowanych macierzach pomyłek można stwierdzić, że zastosowanie odległości Euklidesa daje lepsze rezultaty niż odległości Mahalanobisa. Odległość Mahalanobisa ma zastosowanie w regresji liniowej. Warto zauważyć, że w tym przypadku jej zastosowanie generuje bardziej równomiernie rozłożone wyniki, które jedynie w części pokrywają się z główna diagonalną."
   ]
  },
  {
   "cell_type": "markdown",
   "metadata": {},
   "source": [
    "<strong>Zadanie 3</strong>"
   ]
  },
  {
   "cell_type": "markdown",
   "metadata": {},
   "source": [
    "Porównać NM z kNN z poprzedniego laboratorium i wyświetlić tablicę pomyłek"
   ]
  },
  {
   "cell_type": "markdown",
   "metadata": {},
   "source": [
    "<strong>Kod klasyfikatorna kNN</strong>"
   ]
  },
  {
   "cell_type": "code",
   "execution_count": 633,
   "metadata": {},
   "outputs": [],
   "source": [
    "def kNN_classify(X, training_set, training_labels, k):\n",
    "        distances = np.sum((np.tile(X,(np.shape(training_set)[0],1)) - training_set)**2, axis=1)\n",
    "        knn_indices = np.argsort(distances)[:k].astype(int)\n",
    "        nearest_neighbours = np.array(training_labels)[knn_indices]\n",
    "        return max(set(nearest_neighbours[:,0]), key=list(nearest_neighbours[:,0]).count)\n",
    "    \n",
    "def kNN_predict(k, training_set, training_labels, test_set):\n",
    "    X = check_array(test_set, accept_sparse='csr')\n",
    "    y = np.array([])\n",
    "    for x in test_set:\n",
    "        y = np.append(y, kNN_classify(x, training_set, training_labels, k))\n",
    "    return y"
   ]
  },
  {
   "cell_type": "markdown",
   "metadata": {},
   "source": [
    "Dokonajmy klasyfikacji przy pomocy tego klasyfikatora"
   ]
  },
  {
   "cell_type": "code",
   "execution_count": 634,
   "metadata": {},
   "outputs": [
    {
     "name": "stdout",
     "output_type": "stream",
     "text": [
      "Przewidziane przez kNN\n",
      "[ 8.  9.  5.  8.  9.  9.  3.  9.  5. 10. 10.  5. 10.  7.  9.  7. 10.  5.\n",
      " 10.  5.  5.  3.  9.  3.  5.  9. 10.  7.  3.  7.  5.  3.  3.  8.  8.  5.\n",
      "  8.  5.  8. 10.  3.  9.  7.  5. 10.  5.  8.  7.  3.]\n"
     ]
    }
   ],
   "source": [
    "predicted_kNN = kNN_predict(3, training_set, training_labels, test_set)\n",
    "\n",
    "print('Przewidziane przez kNN')\n",
    "print(predicted_kNN)"
   ]
  },
  {
   "cell_type": "markdown",
   "metadata": {},
   "source": [
    "<strong>Narysujmy tablicę pomyłek dla NM oraz kNN</strong>"
   ]
  },
  {
   "cell_type": "code",
   "execution_count": 635,
   "metadata": {},
   "outputs": [
    {
     "data": {
      "image/png": "[encoded data removed]",
      "text/plain": [
       "<Figure size 432x288 with 1 Axes>"
      ]
     },
     "metadata": {
      "needs_background": "light"
     },
     "output_type": "display_data"
    }
   ],
   "source": [
    "draw_confusion_matrix(predicted_kNN)"
   ]
  },
  {
   "cell_type": "markdown",
   "metadata": {},
   "source": [
    "<strong>Wnioski</strong>"
   ]
  },
  {
   "cell_type": "markdown",
   "metadata": {},
   "source": [
    "Klasyfikator kNN daje nieco dokładniejsze wyniki niż klasyfikator NM (przynajmniej jego wersja wykorzystująca odległość Euklidesa; więcej zakwalifikowanych punktów znajduje się na głównej diagonalnej). Z tego względu stosowanie kNN wydaje się być najlepszym wyborem jeśli chcemy uzyskać \"bliskie rzeczywistym\" wyniki. Mimo tego NM zabiera mniej zasobów w czasie obliczania i to jest główny powód jego stosowania, przy nieco gorszych wynikach."
   ]
  }
 ],
 "metadata": {
  "kernelspec": {
   "display_name": "Python 3",
   "language": "python",
   "name": "python3"
  },
  "language_info": {
   "codemirror_mode": {
    "name": "ipython",
    "version": 3
   },
   "file_extension": ".py",
   "mimetype": "text/x-python",
   "name": "python",
   "nbconvert_exporter": "python",
   "pygments_lexer": "ipython3",
   "version": "3.8.2"
  }
 },
 "nbformat": 4,
 "nbformat_minor": 4
}
